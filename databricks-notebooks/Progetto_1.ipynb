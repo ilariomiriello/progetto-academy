{
 "cells": [
  {
   "cell_type": "code",
   "execution_count": 0,
   "metadata": {
    "application/vnd.databricks.v1+cell": {
     "cellMetadata": {
      "byteLimit": 2048000,
      "rowLimit": 10000
     },
     "inputWidgets": {},
     "nuid": "c71b229d-37f2-48d0-b4a5-76ecca595e49",
     "showTitle": false,
     "tableResultSettingsMap": {
      "0": {
       "dataGridStateBlob": "{\"version\":1,\"tableState\":{\"columnPinning\":{\"left\":[\"#row_number#\"],\"right\":[]},\"columnSizing\":{},\"columnVisibility\":{}},\"settings\":{\"columns\":{}},\"syncTimestamp\":1758027610833}",
       "filterBlob": null,
       "queryPlanFiltersBlob": null,
       "tableResultIndex": 0
      }
     },
     "title": ""
    }
   },
   "outputs": [],
   "source": [
    "CATALOG = \"catalogo_progetto\"\n",
    "SCHEMA = \"bronze\"\n",
    "\n",
    "df_hotels = spark.table(f\"{CATALOG}.{SCHEMA}.hotels\")\n",
    "df_payments = spark.table(f\"{CATALOG}.{SCHEMA}.payments\")\n",
    "df_rooms = spark.table(f\"{CATALOG}.{SCHEMA}.rooms\")\n",
    "df_bookings = spark.table(f\"{CATALOG}.{SCHEMA}.bookings\")\n",
    "df_customers = spark.table(f\"{CATALOG}.{SCHEMA}.customers\")\n",
    "\n",
    "display(df_hotels)\n",
    "display(df_payments)\n",
    "display(df_rooms)\n",
    "display(df_bookings)\n",
    "display(df_customers)\n",
    "\n"
   ]
  },
  {
   "cell_type": "code",
   "execution_count": 0,
   "metadata": {
    "application/vnd.databricks.v1+cell": {
     "cellMetadata": {
      "byteLimit": 2048000,
      "rowLimit": 10000
     },
     "inputWidgets": {},
     "nuid": "ae2c19c3-f4d2-4b5a-a334-6872c4bf5458",
     "showTitle": false,
     "tableResultSettingsMap": {},
     "title": ""
    }
   },
   "outputs": [],
   "source": [
    "from pyspark.sql.functions import current_timestamp\n",
    "\n",
    "df_hotels = df_hotels.withColumn(\"ingestion_date\", current_timestamp())\n",
    "df_payments = df_payments.withColumn(\"ingestion_date\", current_timestamp())\n",
    "df_rooms = df_rooms.withColumn(\"ingestion_date\", current_timestamp())\n",
    "df_bookings = df_bookings.withColumn(\"ingestion_date\", current_timestamp())\n",
    "df_customers = df_customers.withColumn(\"ingestion_date\", current_timestamp())"
   ]
  },
  {
   "cell_type": "code",
   "execution_count": 0,
   "metadata": {
    "application/vnd.databricks.v1+cell": {
     "cellMetadata": {
      "byteLimit": 2048000,
      "rowLimit": 10000
     },
     "inputWidgets": {},
     "nuid": "cc462137-7dff-4f5c-bdcd-509ebd1bee6b",
     "showTitle": false,
     "tableResultSettingsMap": {},
     "title": ""
    }
   },
   "outputs": [],
   "source": [
    "tables = {\n",
    "    \"hotels\": df_hotels,\n",
    "    \"rooms\": df_rooms,\n",
    "    \"customers\": df_customers,\n",
    "    \"bookings\": df_bookings,\n",
    "    \"payments\": df_payments,\n",
    "}\n",
    "\n",
    "for name, df in tables.items():\n",
    "    (df.write\n",
    "       .format(\"delta\")\n",
    "       .mode(\"overwrite\")\n",
    "       .option(\"overwriteSchema\", \"true\")   # <<— chiave\n",
    "       .saveAsTable(f\"{CATALOG}.{SCHEMA}.{name}\"))"
   ]
  }
 ],
 "metadata": {
  "application/vnd.databricks.v1+notebook": {
   "computePreferences": null,
   "dashboards": [],
   "environmentMetadata": {
    "base_environment": "",
    "environment_version": "3"
   },
   "inputWidgetPreferences": null,
   "language": "python",
   "notebookMetadata": {
    "pythonIndentUnit": 4
   },
   "notebookName": "Progetto_1",
   "widgets": {}
  },
  "language_info": {
   "name": "python"
  }
 },
 "nbformat": 4,
 "nbformat_minor": 0
}