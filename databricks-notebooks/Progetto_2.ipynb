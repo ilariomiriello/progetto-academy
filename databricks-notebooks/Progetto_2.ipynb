{
 "cells": [
  {
   "cell_type": "code",
   "execution_count": 0,
   "metadata": {
    "application/vnd.databricks.v1+cell": {
     "cellMetadata": {
      "byteLimit": 2048000,
      "rowLimit": 10000
     },
     "inputWidgets": {},
     "nuid": "67c5414f-8010-40da-8c57-4d22a6093d57",
     "showTitle": false,
     "tableResultSettingsMap": {},
     "title": ""
    }
   },
   "outputs": [],
   "source": [
    "import pyspark.sql.functions as F\n",
    "from pyspark.sql.window import Window\n",
    "from pyspark.sql.functions import col, trim\n",
    "\n",
    "CATALOG = \"catalogo_progetto\"\n",
    "BRONZE  = \"bronze\"\n",
    "SILVER  = \"silver\"\n",
    "\n",
    "# Preparazione schema\n",
    "spark.sql(f\"CREATE SCHEMA IF NOT EXISTS {CATALOG}.{SILVER}\")\n",
    "spark.sql(f\"USE CATALOG {CATALOG}\")\n",
    "spark.sql(f\"USE {SILVER}\")"
   ]
  },
  {
   "cell_type": "code",
   "execution_count": 0,
   "metadata": {
    "application/vnd.databricks.v1+cell": {
     "cellMetadata": {
      "byteLimit": 2048000,
      "rowLimit": 10000
     },
     "inputWidgets": {},
     "nuid": "5c585d55-f8f9-48ae-91a3-70360de25472",
     "showTitle": false,
     "tableResultSettingsMap": {},
     "title": ""
    }
   },
   "outputs": [],
   "source": [
    "df_hotels_bz = spark.table(f\"{CATALOG}.{BRONZE}.hotels\")\n",
    "# Cambia \"Country\" se la colonna ha un nome diverso\n",
    "df_hotels_sv = df_hotels_bz.filter(F.col(\"Country\") != \"XX\")\n",
    "\n",
    "df_hotels_sv.write.format(\"delta\").mode(\"overwrite\").saveAsTable(f\"{CATALOG}.{SILVER}.hotels\")"
   ]
  },
  {
   "cell_type": "code",
   "execution_count": 0,
   "metadata": {
    "application/vnd.databricks.v1+cell": {
     "cellMetadata": {
      "byteLimit": 2048000,
      "rowLimit": 10000
     },
     "inputWidgets": {},
     "nuid": "9014fbae-ea99-4945-8cfa-5bf4b85e8815",
     "showTitle": false,
     "tableResultSettingsMap": {},
     "title": ""
    }
   },
   "outputs": [],
   "source": [
    "df_customers_bz = spark.table(f\"{CATALOG}.{BRONZE}.customers\")\n",
    "\n",
    "df_customers_sv = df_customers_bz.withColumn(\n",
    "    \"email\",\n",
    "    F.when(F.trim(F.col(\"email\")).isin(\"\", \"null\", \"NULL\"), F.lit(None)).otherwise(F.col(\"email\"))\n",
    ")\n",
    "\n",
    "# Dedup: se c'è ingestion_date tieni il più recente, altrimenti semplice dropDuplicates\n",
    "if \"ingestion_date\" in df_customers_sv.columns:\n",
    "    w = Window.partitionBy(\"customer_id\").orderBy(F.col(\"ingestion_date\").desc())\n",
    "    df_customers_sv = (\n",
    "        df_customers_sv.withColumn(\"_rn\", F.row_number().over(w))\n",
    "                       .filter(F.col(\"_rn\") == 1)\n",
    "                       .drop(\"_rn\")\n",
    "    )\n",
    "else:\n",
    "    df_customers_sv = df_customers_sv.dropDuplicates([\"customer_id\"])\n",
    "\n",
    "df_customers_sv.write.format(\"delta\").mode(\"overwrite\").saveAsTable(f\"{CATALOG}.{SILVER}.customers\")\n"
   ]
  },
  {
   "cell_type": "code",
   "execution_count": 0,
   "metadata": {
    "application/vnd.databricks.v1+cell": {
     "cellMetadata": {
      "byteLimit": 2048000,
      "rowLimit": 10000
     },
     "inputWidgets": {},
     "nuid": "4788a41a-242e-4604-9e0b-b51c2b9b9e3a",
     "showTitle": false,
     "tableResultSettingsMap": {},
     "title": ""
    }
   },
   "outputs": [],
   "source": [
    "df_rooms_bz = spark.table(f\"{CATALOG}.{BRONZE}.rooms\")\n",
    "df_rooms_sv = df_rooms_bz.dropDuplicates([\"room_id\"])   # cambia se il nome è diverso\n",
    "\n",
    "df_rooms_sv.write.format(\"delta\").mode(\"overwrite\").saveAsTable(f\"{CATALOG}.{SILVER}.rooms\")\n"
   ]
  },
  {
   "cell_type": "code",
   "execution_count": 0,
   "metadata": {
    "application/vnd.databricks.v1+cell": {
     "cellMetadata": {
      "byteLimit": 2048000,
      "rowLimit": 10000
     },
     "inputWidgets": {},
     "nuid": "8e736954-6a43-41f0-af23-2af62a0e6991",
     "showTitle": false,
     "tableResultSettingsMap": {},
     "title": ""
    }
   },
   "outputs": [],
   "source": [
    "CHECKIN  = \"checkin_date\"     # es.: \"checkin\"\n",
    "CHECKOUT = \"checkout_date\"    # es.: \"checkout\"\n",
    "CURRENCY = \"currency\"\n",
    "TOTAL    = \"total_amount\"\n",
    "valid_curr = [\"EUR\", \"USD\", \"GBP\"]\n",
    "\n",
    "df_bookings_bz = spark.table(f\"{CATALOG}.{BRONZE}.bookings\")\n",
    "b = df_bookings_bz\n",
    "\n",
    "# Converti a date se arrivano come stringa (adatta il formato se necessario)\n",
    "if b.schema[CHECKIN].dataType.simpleString() == \"string\":\n",
    "    b = b.withColumn(CHECKIN, F.to_date(CHECKIN))\n",
    "if b.schema[CHECKOUT].dataType.simpleString() == \"string\":\n",
    "    b = b.withColumn(CHECKOUT, F.to_date(CHECKOUT))\n",
    "\n",
    "# Flag date invertite + swap\n",
    "b = (b.withColumn(\"dq_swapped_dates\", F.when(F.col(CHECKIN) > F.col(CHECKOUT), F.lit(True)).otherwise(F.lit(False)))\n",
    "     .withColumn(\"_tmp_in\",  F.least(F.col(CHECKIN),  F.col(CHECKOUT)))\n",
    "     .withColumn(\"_tmp_out\", F.greatest(F.col(CHECKIN), F.col(CHECKOUT)))\n",
    "     .drop(CHECKIN, CHECKOUT)\n",
    "     .withColumnRenamed(\"_tmp_in\",  CHECKIN)\n",
    "     .withColumnRenamed(\"_tmp_out\", CHECKOUT))\n",
    "\n",
    "# Importi negativi → NULL + flag\n",
    "b = (b.withColumn(\"dq_negative_total\", F.when(F.col(TOTAL) < 0, F.lit(True)).otherwise(F.lit(False)))\n",
    "     .withColumn(TOTAL, F.when(F.col(TOTAL) < 0, F.lit(None)).otherwise(F.col(TOTAL))))\n",
    "\n",
    "# Currency non valida → NULL + flag\n",
    "b = (b.withColumn(\"dq_invalid_currency\",\n",
    "                  F.when(~F.col(CURRENCY).isin(valid_curr), F.lit(True)).otherwise(F.lit(False)))\n",
    "     .withColumn(CURRENCY,\n",
    "                  F.when(~F.col(CURRENCY).isin(valid_curr), F.lit(None)).otherwise(F.col(CURRENCY))))\n",
    "\n",
    "df_bookings_sv = b\n",
    "\n",
    "df_bookings_sv.write.format(\"delta\").mode(\"overwrite\").saveAsTable(f\"{CATALOG}.{SILVER}.bookings\")\n"
   ]
  },
  {
   "cell_type": "code",
   "execution_count": 0,
   "metadata": {
    "application/vnd.databricks.v1+cell": {
     "cellMetadata": {
      "byteLimit": 2048000,
      "rowLimit": 10000
     },
     "inputWidgets": {},
     "nuid": "48b43fe2-10d5-45eb-9019-bcd4f4378fdc",
     "showTitle": false,
     "tableResultSettingsMap": {},
     "title": ""
    }
   },
   "outputs": [],
   "source": [
    "import pyspark.sql.functions as F\n",
    "\n",
    "PM_BOOKING_ID = \"booking_id\"\n",
    "PM_AMOUNT     = \"amount\"\n",
    "PM_CURRENCY   = \"currency\"\n",
    "TOTAL         = \"total_amount\"\n",
    "valid_curr    = [\"EUR\", \"USD\", \"GBP\"]\n",
    "\n",
    "# bookings silver: rinominiamo le colonne per evitare conflitti\n",
    "bk = (spark.table(f\"{CATALOG}.{SILVER}.bookings\")\n",
    "        .select(\n",
    "            F.col(\"booking_id\").alias(\"bk_booking_id\"),\n",
    "            F.col(TOTAL).alias(\"bk_total_amount\")\n",
    "        ))\n",
    "\n",
    "# payments bronze\n",
    "p0 = spark.table(f\"{CATALOG}.{BRONZE}.payments\")\n",
    "\n",
    "# join left\n",
    "p = (p0.join(bk, p0[PM_BOOKING_ID] == F.col(\"bk_booking_id\"), \"left\"))\n",
    "\n",
    "# orphan: booking inesistente\n",
    "p = p.withColumn(\n",
    "    \"dq_orphan_payment\",\n",
    "    F.when(F.col(\"bk_booking_id\").isNull(), F.lit(True)).otherwise(F.lit(False))\n",
    ")\n",
    "\n",
    "# over_amount: amount > total_amount (solo se booking esiste)\n",
    "p = p.withColumn(\n",
    "    \"dq_over_amount\",\n",
    "    F.when(\n",
    "        (F.col(\"bk_booking_id\").isNotNull()) & (F.col(PM_AMOUNT) > F.col(\"bk_total_amount\")),\n",
    "        F.lit(True)\n",
    "    ).otherwise(F.lit(False))\n",
    ")\n",
    "\n",
    "# currency non valida → NULL + flag (niente prefisso 'p.')\n",
    "p = (p.withColumn(\n",
    "        \"dq_invalid_currency\",\n",
    "        F.when(~F.col(PM_CURRENCY).isin(valid_curr), F.lit(True)).otherwise(F.lit(False))\n",
    "     )\n",
    "     .withColumn(\n",
    "        PM_CURRENCY,\n",
    "        F.when(~F.col(PM_CURRENCY).isin(valid_curr), F.lit(None)).otherwise(F.col(PM_CURRENCY))\n",
    "     )\n",
    ")\n",
    "\n",
    "# (opzionale) rimuovi la chiave rinominata del bookings se non ti serve in output\n",
    "p = p.drop(\"bk_booking_id\")\n",
    "\n",
    "# salva in silver\n",
    "df_payments_sv = p\n",
    "df_payments_sv.write.format(\"delta\").mode(\"overwrite\").saveAsTable(f\"{CATALOG}.{SILVER}.payments\")\n"
   ]
  }
 ],
 "metadata": {
  "application/vnd.databricks.v1+notebook": {
   "computePreferences": null,
   "dashboards": [],
   "environmentMetadata": {
    "base_environment": "",
    "environment_version": "3"
   },
   "inputWidgetPreferences": null,
   "language": "python",
   "notebookMetadata": {
    "pythonIndentUnit": 4
   },
   "notebookName": "Progetto_2",
   "widgets": {}
  },
  "language_info": {
   "name": "python"
  }
 },
 "nbformat": 4,
 "nbformat_minor": 0
}