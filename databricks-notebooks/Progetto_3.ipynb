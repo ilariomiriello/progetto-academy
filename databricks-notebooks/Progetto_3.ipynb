{
 "cells": [
  {
   "cell_type": "code",
   "execution_count": 0,
   "metadata": {
    "application/vnd.databricks.v1+cell": {
     "cellMetadata": {
      "byteLimit": 2048000,
      "rowLimit": 10000
     },
     "inputWidgets": {},
     "nuid": "d54c893e-c0b4-4f25-8e4d-814ae8040283",
     "showTitle": false,
     "tableResultSettingsMap": {},
     "title": ""
    }
   },
   "outputs": [],
   "source": [
    "import pyspark.sql.functions as F\n",
    "\n",
    "CATALOG = \"catalogo_progetto\"\n",
    "SILVER  = \"silver\"\n",
    "GOLD    = \"gold\"\n",
    "\n",
    "# Cambia se i nomi differiscono nel tuo dataset\n",
    "COL_BOOKING_ID   = \"booking_id\"\n",
    "COL_CUSTOMER_ID  = \"customer_id\"\n",
    "COL_ROOM_ID      = \"room_id\"\n",
    "COL_HOTEL_ID     = \"hotel_id\"\n",
    "COL_TOTAL        = \"total_amount\"\n",
    "COL_AMOUNT       = \"amount\"\n",
    "COL_SOURCE       = \"source\"\n",
    "COL_STATUS       = \"status\"          # es. 'confirmed' / 'cancelled'\n",
    "COL_CHECKIN      = \"checkin_date\"\n",
    "COL_CHECKOUT     = \"checkout_date\"\n",
    "\n",
    "spark.sql(f\"CREATE SCHEMA IF NOT EXISTS {CATALOG}.{GOLD}\")\n",
    "spark.sql(f\"USE CATALOG {CATALOG}\")\n"
   ]
  },
  {
   "cell_type": "code",
   "execution_count": 0,
   "metadata": {
    "application/vnd.databricks.v1+cell": {
     "cellMetadata": {
      "byteLimit": 2048000,
      "rowLimit": 10000
     },
     "inputWidgets": {},
     "nuid": "d058b297-264c-4450-8661-d263a6449d3a",
     "showTitle": false,
     "tableResultSettingsMap": {},
     "title": ""
    }
   },
   "outputs": [],
   "source": [
    "bks = spark.table(f\"{CATALOG}.{SILVER}.bookings\")\n",
    "pmt = spark.table(f\"{CATALOG}.{SILVER}.payments\")\n",
    "cus = spark.table(f\"{CATALOG}.{SILVER}.customers\")\n",
    "rms = spark.table(f\"{CATALOG}.{SILVER}.rooms\")\n",
    "htl = spark.table(f\"{CATALOG}.{SILVER}.hotels\")\n"
   ]
  },
  {
   "cell_type": "code",
   "execution_count": 0,
   "metadata": {
    "application/vnd.databricks.v1+cell": {
     "cellMetadata": {
      "byteLimit": 2048000,
      "rowLimit": 10000
     },
     "inputWidgets": {},
     "nuid": "1573efcb-8bc7-4207-a617-e26ef236e8ae",
     "showTitle": false,
     "tableResultSettingsMap": {},
     "title": ""
    }
   },
   "outputs": [],
   "source": [
    "daily_rev = (\n",
    "    bks\n",
    "    .filter( (F.col(COL_STATUS) == \"confirmed\") & F.col(COL_TOTAL).isNotNull() )\n",
    "    .groupBy(F.col(COL_CHECKIN).alias(\"date\"))     # o usa la data giusta di competenza\n",
    "    .agg(\n",
    "        F.sum(COL_TOTAL).alias(\"gross_revenue\"),\n",
    "        F.countDistinct(COL_BOOKING_ID).alias(\"bookings_count\")\n",
    "    )\n",
    "    .orderBy(\"date\")\n",
    ")\n",
    "\n",
    "daily_rev.write.format(\"delta\").mode(\"overwrite\").saveAsTable(f\"{CATALOG}.{GOLD}.daily_revenue\")\n"
   ]
  },
  {
   "cell_type": "code",
   "execution_count": 0,
   "metadata": {
    "application/vnd.databricks.v1+cell": {
     "cellMetadata": {
      "byteLimit": 2048000,
      "rowLimit": 10000
     },
     "inputWidgets": {},
     "nuid": "28c2a019-7fd9-4550-b2ce-eab58b951ef2",
     "showTitle": false,
     "tableResultSettingsMap": {},
     "title": ""
    }
   },
   "outputs": [],
   "source": [
    "by_source = (\n",
    "    bks.groupBy(COL_SOURCE)\n",
    "       .agg(\n",
    "           F.count(\"*\").alias(\"total_bookings\"),\n",
    "           F.sum(F.when(F.col(COL_STATUS) == \"cancelled\", 1).otherwise(0)).alias(\"cancelled\")\n",
    "       )\n",
    "       .withColumn(\"cancellation_rate_pct\", F.round(F.col(\"cancelled\")/F.col(\"total_bookings\")*100, 2))\n",
    "       .orderBy(\"cancellation_rate_pct\", ascending=False)\n",
    ")\n",
    "\n",
    "by_source.write.format(\"delta\").mode(\"overwrite\").saveAsTable(f\"{CATALOG}.{GOLD}.cancellation_rate_by_source\")\n"
   ]
  },
  {
   "cell_type": "code",
   "execution_count": 0,
   "metadata": {
    "application/vnd.databricks.v1+cell": {
     "cellMetadata": {
      "byteLimit": 2048000,
      "rowLimit": 10000
     },
     "inputWidgets": {},
     "nuid": "30f3978c-0765-46f0-8db5-b3fda00e058b",
     "showTitle": false,
     "tableResultSettingsMap": {},
     "title": ""
    }
   },
   "outputs": [],
   "source": [
    "# Controllo veloce (opzionale)\n",
    "print(\"bks:\", bks.columns)\n",
    "print(\"pmt:\", pmt.columns)\n",
    "\n",
    "# Filtri “validi”\n",
    "payments_valid = pmt.filter(\n",
    "    (~F.col(\"dq_orphan_payment\")) &\n",
    "    (~F.col(\"dq_invalid_currency\")) &\n",
    "    (~F.col(\"dq_over_amount\")) &\n",
    "    F.col(COL_AMOUNT).isNotNull()\n",
    ")\n",
    "\n",
    "bookings_valid = bks.filter(F.col(COL_TOTAL).isNotNull())\n",
    "\n",
    "# 1) Portiamo hotel_id nei pagamenti tramite booking_id\n",
    "pmt_with_hotel = (\n",
    "    payments_valid\n",
    "    .join(bookings_valid.select(COL_BOOKING_ID, COL_HOTEL_ID), on=COL_BOOKING_ID, how=\"inner\")\n",
    ")\n",
    "\n",
    "# 2) Somme per hotel\n",
    "payments_by_hotel = (\n",
    "    pmt_with_hotel.groupBy(COL_HOTEL_ID)\n",
    "    .agg(F.sum(COL_AMOUNT).alias(\"total_payments_value\"))\n",
    ")\n",
    "\n",
    "bookings_by_hotel = (\n",
    "    bookings_valid.groupBy(COL_HOTEL_ID)\n",
    "    .agg(F.sum(COL_TOTAL).alias(\"total_bookings_value\"))\n",
    ")\n",
    "\n",
    "# 3) Join finale + collection_rate\n",
    "coll = (\n",
    "    bookings_by_hotel\n",
    "    .join(payments_by_hotel, on=COL_HOTEL_ID, how=\"left\")\n",
    "    .fillna({\"total_payments_value\": 0.0})\n",
    "    .withColumn(\n",
    "        \"collection_rate\",\n",
    "        F.when(F.col(\"total_bookings_value\") > 0,\n",
    "               F.round(F.col(\"total_payments_value\")/F.col(\"total_bookings_value\"), 4))\n",
    "         .otherwise(F.lit(None))\n",
    "    )\n",
    ")\n",
    "\n",
    "coll.write.format(\"delta\").mode(\"overwrite\").saveAsTable(f\"{CATALOG}.{GOLD}.collection_rate\")\n",
    "\n"
   ]
  },
  {
   "cell_type": "code",
   "execution_count": 0,
   "metadata": {
    "application/vnd.databricks.v1+cell": {
     "cellMetadata": {
      "byteLimit": 2048000,
      "rowLimit": 10000
     },
     "inputWidgets": {},
     "nuid": "3b9c16aa-9ec9-4429-b445-b4211660c33d",
     "showTitle": false,
     "tableResultSettingsMap": {},
     "title": ""
    }
   },
   "outputs": [],
   "source": [
    "b1 = bks.select(\n",
    "    F.col(COL_BOOKING_ID).alias(\"booking_id_1\"),\n",
    "    F.col(COL_ROOM_ID).alias(\"room_id\"),\n",
    "    F.col(COL_CHECKIN).alias(\"checkin_1\"),\n",
    "    F.col(COL_CHECKOUT).alias(\"checkout_1\")\n",
    ")\n",
    "b2 = bks.select(\n",
    "    F.col(COL_BOOKING_ID).alias(\"booking_id_2\"),\n",
    "    F.col(COL_ROOM_ID).alias(\"room_id\"),\n",
    "    F.col(COL_CHECKIN).alias(\"checkin_2\"),\n",
    "    F.col(COL_CHECKOUT).alias(\"checkout_2\")\n",
    ")\n",
    "\n",
    "overlap = (\n",
    "    b1.join(b2, on=\"room_id\")\n",
    "      .filter(F.col(\"booking_id_1\") < F.col(\"booking_id_2\"))\n",
    "      .withColumn(\"overlap_start\", F.greatest(\"checkin_1\", \"checkin_2\"))\n",
    "      .withColumn(\"overlap_end\",   F.least(\"checkout_1\",\"checkout_2\"))\n",
    "      .filter(F.col(\"overlap_start\") < F.col(\"overlap_end\"))\n",
    "      .select(\"room_id\",\"booking_id_1\",\"booking_id_2\",\"overlap_start\",\"overlap_end\")\n",
    ")\n",
    "\n",
    "overlap.write.format(\"delta\").mode(\"overwrite\").saveAsTable(f\"{CATALOG}.{GOLD}.overbooking_alerts\")\n"
   ]
  },
  {
   "cell_type": "code",
   "execution_count": 0,
   "metadata": {
    "application/vnd.databricks.v1+cell": {
     "cellMetadata": {
      "byteLimit": 2048000,
      "rowLimit": 10000
     },
     "inputWidgets": {},
     "nuid": "910232ac-ab1b-4a79-9a49-27dc859c4968",
     "showTitle": false,
     "tableResultSettingsMap": {},
     "title": ""
    }
   },
   "outputs": [],
   "source": [
    "cust_val = (\n",
    "    bks.filter(F.col(COL_TOTAL).isNotNull())\n",
    "       # .filter(F.col(COL_STATUS) == \"confirmed\")   # sblocca se vuoi solo confermate\n",
    "       .groupBy(COL_CUSTOMER_ID)\n",
    "       .agg(\n",
    "           F.countDistinct(COL_BOOKING_ID).alias(\"bookings_count\"),\n",
    "           F.sum(COL_TOTAL).alias(\"revenue_sum\"),\n",
    "           F.round(F.avg(COL_TOTAL), 2).alias(\"avg_ticket\")\n",
    "       )\n",
    ")\n",
    "\n",
    "cust_val.write.format(\"delta\").mode(\"overwrite\").saveAsTable(f\"{CATALOG}.{GOLD}.customer_value\")\n"
   ]
  }
 ],
 "metadata": {
  "application/vnd.databricks.v1+notebook": {
   "computePreferences": null,
   "dashboards": [],
   "environmentMetadata": {
    "base_environment": "",
    "environment_version": "3"
   },
   "inputWidgetPreferences": null,
   "language": "python",
   "notebookMetadata": {
    "pythonIndentUnit": 4
   },
   "notebookName": "Progetto_3",
   "widgets": {}
  },
  "language_info": {
   "name": "python"
  }
 },
 "nbformat": 4,
 "nbformat_minor": 0
}